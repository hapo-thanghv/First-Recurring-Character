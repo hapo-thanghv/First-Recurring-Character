{
  "nbformat": 4,
  "nbformat_minor": 0,
  "metadata": {
    "colab": {
      "name": "First Recurring Character.ipynb",
      "provenance": [],
      "authorship_tag": "ABX9TyOYTYTzc1X3gOF7qXO0SQ0n",
      "include_colab_link": true
    },
    "kernelspec": {
      "name": "python3",
      "display_name": "Python 3"
    }
  },
  "cells": [
    {
      "cell_type": "markdown",
      "metadata": {
        "id": "view-in-github",
        "colab_type": "text"
      },
      "source": [
        "<a href=\"https://colab.research.google.com/github/hapo-thanghv/First-Recurring-Character/blob/master/First_Recurring_Character.ipynb\" target=\"_parent\"><img src=\"https://colab.research.google.com/assets/colab-badge.svg\" alt=\"Open In Colab\"/></a>"
      ]
    },
    {
      "cell_type": "code",
      "metadata": {
        "id": "Uyf2f7u7zcUw",
        "colab_type": "code",
        "colab": {
          "base_uri": "https://localhost:8080/",
          "height": 36
        },
        "outputId": "b037f391-9330-46fa-8ca9-ee852d5a102a"
      },
      "source": [
        "def FRC(given_str):\n",
        "  counts = {}\n",
        "  for char in given_str:\n",
        "    if char in counts:\n",
        "      return char\n",
        "    counts[char] = 1\n",
        "  return null\n",
        "\n",
        "FRC('Ha Van Thang')\n",
        "\n"
      ],
      "execution_count": null,
      "outputs": [
        {
          "output_type": "execute_result",
          "data": {
            "application/vnd.google.colaboratory.intrinsic+json": {
              "type": "string"
            },
            "text/plain": [
              "'a'"
            ]
          },
          "metadata": {
            "tags": []
          },
          "execution_count": 2
        }
      ]
    }
  ]
}